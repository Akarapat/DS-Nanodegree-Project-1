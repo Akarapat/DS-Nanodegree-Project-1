{
 "cells": [
  {
   "cell_type": "markdown",
   "metadata": {},
   "source": [
    "# Udacity DS Nanodegree project 1: Analysis of Airbnb (Seattle) data"
   ]
  },
  {
   "cell_type": "markdown",
   "metadata": {},
   "source": [
    "__Three questions with business or real-world application__\n"
   ]
  },
  {
   "cell_type": "markdown",
   "metadata": {},
   "source": [
    "The US has experienced the problem of stagnant income growth of middle class for quite sometimes.  This question will shade some light on how Airbnb can help the middle class of the US in raising their income.  It will seek to answer the following three questions with descriptive statistics:"
   ]
  },
  {
   "cell_type": "markdown",
   "metadata": {},
   "source": [
    "- How large is middle income class renting accommodation on Airbnb in Seattle as compared for lardlord?\n",
    "- How many of them are \"superhost\"?\n",
    "- Does being \"superhost\" help their businesses on Airbnb?"
   ]
  },
  {
   "cell_type": "markdown",
   "metadata": {},
   "source": [
    "__Load necessary library and data__"
   ]
  },
  {
   "cell_type": "code",
   "execution_count": 102,
   "metadata": {},
   "outputs": [],
   "source": [
    "import pandas as pd\n",
    "import matplotlib.pyplot as plt\n",
    "import numpy as np\n",
    "%matplotlib inline"
   ]
  },
  {
   "cell_type": "code",
   "execution_count": 75,
   "metadata": {},
   "outputs": [],
   "source": [
    "df = pd.read_csv(\"listings.csv\")"
   ]
  },
  {
   "cell_type": "markdown",
   "metadata": {},
   "source": [
    "__Question 1: Identify listing made by middle income class__"
   ]
  },
  {
   "cell_type": "markdown",
   "metadata": {},
   "source": [
    "To identify listing from middle income class, it is possible to look at variable \"availability_365\" which identify how many days in the year the accommodation is in Airbnb market.  Middle income class are likely to rent out their own home so their value of \"availability_365\" is likely to be small"
   ]
  },
  {
   "cell_type": "code",
   "execution_count": null,
   "metadata": {},
   "outputs": [],
   "source": [
    "#examine variable \"availability_365\""
   ]
  },
  {
   "cell_type": "code",
   "execution_count": 79,
   "metadata": {},
   "outputs": [
    {
     "data": {
      "text/plain": [
       "0"
      ]
     },
     "execution_count": 79,
     "metadata": {},
     "output_type": "execute_result"
    }
   ],
   "source": [
    "df['availability_365'].isnull().sum() #there are no row with NaN"
   ]
  },
  {
   "cell_type": "code",
   "execution_count": 84,
   "metadata": {},
   "outputs": [
    {
     "data": {
      "text/plain": [
       "95"
      ]
     },
     "execution_count": 84,
     "metadata": {},
     "output_type": "execute_result"
    }
   ],
   "source": [
    "df[df['availability_365'] == 0].shape[0] #there are 95 listing which are not made available for the whole year"
   ]
  },
  {
   "cell_type": "code",
   "execution_count": 85,
   "metadata": {},
   "outputs": [],
   "source": [
    "df = df[df['availability_365'] != 0] #let's remove those 95 listing as it does not make sense and they account to just small proportion of overall listing"
   ]
  },
  {
   "cell_type": "code",
   "execution_count": null,
   "metadata": {},
   "outputs": [],
   "source": [
    "#transform \"availability_365\""
   ]
  },
  {
   "cell_type": "code",
   "execution_count": 86,
   "metadata": {},
   "outputs": [],
   "source": [
    "def create_availability_range(row):\n",
    "    if row['availability_365'] >0 and row['availability_365'] <= 100:\n",
    "        return 'between 1-100'\n",
    "    if row['availability_365'] >100 and row['availability_365'] <= 200:\n",
    "        return 'between 101-200'\n",
    "    if row['availability_365'] >200 and row['availability_365'] <= 300:\n",
    "        return 'between 201-300'\n",
    "    if row['availability_365'] >300:\n",
    "        return 'more than 300'\n",
    "    else:\n",
    "        return '0'"
   ]
  },
  {
   "cell_type": "code",
   "execution_count": 87,
   "metadata": {},
   "outputs": [],
   "source": [
    "df['availability_365_range'] = df.apply(lambda row: create_availability_range(row), axis=1)"
   ]
  },
  {
   "cell_type": "code",
   "execution_count": null,
   "metadata": {},
   "outputs": [],
   "source": [
    "#investigate availability_365_range"
   ]
  },
  {
   "cell_type": "code",
   "execution_count": 98,
   "metadata": {},
   "outputs": [],
   "source": [
    "table1 = df[['availability_365_range', 'id']].groupby('availability_365_range').agg('count')"
   ]
  },
  {
   "cell_type": "code",
   "execution_count": 99,
   "metadata": {},
   "outputs": [
    {
     "data": {
      "text/html": [
       "<div>\n",
       "<style scoped>\n",
       "    .dataframe tbody tr th:only-of-type {\n",
       "        vertical-align: middle;\n",
       "    }\n",
       "\n",
       "    .dataframe tbody tr th {\n",
       "        vertical-align: top;\n",
       "    }\n",
       "\n",
       "    .dataframe thead th {\n",
       "        text-align: right;\n",
       "    }\n",
       "</style>\n",
       "<table border=\"1\" class=\"dataframe\">\n",
       "  <thead>\n",
       "    <tr style=\"text-align: right;\">\n",
       "      <th></th>\n",
       "      <th>id</th>\n",
       "    </tr>\n",
       "    <tr>\n",
       "      <th>availability_365_range</th>\n",
       "      <th></th>\n",
       "    </tr>\n",
       "  </thead>\n",
       "  <tbody>\n",
       "    <tr>\n",
       "      <th>between 1-100</th>\n",
       "      <td>736</td>\n",
       "    </tr>\n",
       "    <tr>\n",
       "      <th>between 101-200</th>\n",
       "      <td>573</td>\n",
       "    </tr>\n",
       "    <tr>\n",
       "      <th>between 201-300</th>\n",
       "      <td>423</td>\n",
       "    </tr>\n",
       "    <tr>\n",
       "      <th>more than 300</th>\n",
       "      <td>1991</td>\n",
       "    </tr>\n",
       "  </tbody>\n",
       "</table>\n",
       "</div>"
      ],
      "text/plain": [
       "                          id\n",
       "availability_365_range      \n",
       "between 1-100            736\n",
       "between 101-200          573\n",
       "between 201-300          423\n",
       "more than 300           1991"
      ]
     },
     "execution_count": 99,
     "metadata": {},
     "output_type": "execute_result"
    }
   ],
   "source": [
    "table1"
   ]
  },
  {
   "cell_type": "code",
   "execution_count": 105,
   "metadata": {},
   "outputs": [
    {
     "data": {
      "image/png": "[encoded data removed]",
      "text/plain": [
       "<Figure size 432x288 with 1 Axes>"
      ]
     },
     "metadata": {},
     "output_type": "display_data"
    }
   ],
   "source": [
    "objects = table1.index\n",
    "y_pos = np.arange(len(objects))\n",
    "value = table1['id']\n",
    "plt.bar(y_pos, value, align='center', alpha=0.5)\n",
    "plt.xticks(y_pos, objects)\n",
    "plt.ylabel('Number of listing')\n",
    "plt.title('Availability_365')\n",
    "plt.xticks(rotation=90)\n",
    "\n",
    "plt.show()"
   ]
  },
  {
   "cell_type": "markdown",
   "metadata": {},
   "source": [
    "Finding: Around 750 accommodation are owned by middle class as they rent out their accommmodation for relatively less period of time (a period of less than 100 days), while as many as 2000 accommodations are owned by landlord who rent out their accommodation for more than 300 days in a year"
   ]
  },
  {
   "cell_type": "markdown",
   "metadata": {},
   "source": [
    "__Question 2: How many of them are superhost?__"
   ]
  },
  {
   "cell_type": "code",
   "execution_count": 106,
   "metadata": {},
   "outputs": [],
   "source": [
    "table2 = df[['availability_365_range', 'host_is_superhost', 'id']].groupby(['availability_365_range', 'host_is_superhost']).agg('count')"
   ]
  },
  {
   "cell_type": "code",
   "execution_count": 109,
   "metadata": {},
   "outputs": [],
   "source": [
    "table2 = table2.reset_index()"
   ]
  },
  {
   "cell_type": "code",
   "execution_count": 110,
   "metadata": {},
   "outputs": [
    {
     "data": {
      "text/html": [
       "<div>\n",
       "<style scoped>\n",
       "    .dataframe tbody tr th:only-of-type {\n",
       "        vertical-align: middle;\n",
       "    }\n",
       "\n",
       "    .dataframe tbody tr th {\n",
       "        vertical-align: top;\n",
       "    }\n",
       "\n",
       "    .dataframe thead th {\n",
       "        text-align: right;\n",
       "    }\n",
       "</style>\n",
       "<table border=\"1\" class=\"dataframe\">\n",
       "  <thead>\n",
       "    <tr style=\"text-align: right;\">\n",
       "      <th></th>\n",
       "      <th>availability_365_range</th>\n",
       "      <th>host_is_superhost</th>\n",
       "      <th>id</th>\n",
       "    </tr>\n",
       "  </thead>\n",
       "  <tbody>\n",
       "    <tr>\n",
       "      <th>0</th>\n",
       "      <td>between 1-100</td>\n",
       "      <td>f</td>\n",
       "      <td>597</td>\n",
       "    </tr>\n",
       "    <tr>\n",
       "      <th>1</th>\n",
       "      <td>between 1-100</td>\n",
       "      <td>t</td>\n",
       "      <td>137</td>\n",
       "    </tr>\n",
       "    <tr>\n",
       "      <th>2</th>\n",
       "      <td>between 101-200</td>\n",
       "      <td>f</td>\n",
       "      <td>422</td>\n",
       "    </tr>\n",
       "    <tr>\n",
       "      <th>3</th>\n",
       "      <td>between 101-200</td>\n",
       "      <td>t</td>\n",
       "      <td>151</td>\n",
       "    </tr>\n",
       "    <tr>\n",
       "      <th>4</th>\n",
       "      <td>between 201-300</td>\n",
       "      <td>f</td>\n",
       "      <td>330</td>\n",
       "    </tr>\n",
       "    <tr>\n",
       "      <th>5</th>\n",
       "      <td>between 201-300</td>\n",
       "      <td>t</td>\n",
       "      <td>93</td>\n",
       "    </tr>\n",
       "    <tr>\n",
       "      <th>6</th>\n",
       "      <td>more than 300</td>\n",
       "      <td>f</td>\n",
       "      <td>1610</td>\n",
       "    </tr>\n",
       "    <tr>\n",
       "      <th>7</th>\n",
       "      <td>more than 300</td>\n",
       "      <td>t</td>\n",
       "      <td>381</td>\n",
       "    </tr>\n",
       "  </tbody>\n",
       "</table>\n",
       "</div>"
      ],
      "text/plain": [
       "  availability_365_range host_is_superhost    id\n",
       "0          between 1-100                 f   597\n",
       "1          between 1-100                 t   137\n",
       "2        between 101-200                 f   422\n",
       "3        between 101-200                 t   151\n",
       "4        between 201-300                 f   330\n",
       "5        between 201-300                 t    93\n",
       "6          more than 300                 f  1610\n",
       "7          more than 300                 t   381"
      ]
     },
     "execution_count": 110,
     "metadata": {},
     "output_type": "execute_result"
    }
   ],
   "source": [
    "table2"
   ]
  },
  {
   "cell_type": "code",
   "execution_count": 114,
   "metadata": {},
   "outputs": [],
   "source": [
    "superhost_breakdown = table2[table2['host_is_superhost']=='t']['id']"
   ]
  },
  {
   "cell_type": "code",
   "execution_count": 115,
   "metadata": {},
   "outputs": [],
   "source": [
    "notsuperhost_breakdown = table2[table2['host_is_superhost']=='f']['id']"
   ]
  },
  {
   "cell_type": "code",
   "execution_count": 122,
   "metadata": {},
   "outputs": [],
   "source": [
    "proportion_of_superhost = np.array(superhost_breakdown) / (np.array(superhost_breakdown) + np.array(notsuperhost_breakdown))"
   ]
  },
  {
   "cell_type": "code",
   "execution_count": 126,
   "metadata": {},
   "outputs": [
    {
     "data": {
      "image/png": "[encoded data removed]",
      "text/plain": [
       "<Figure size 432x288 with 1 Axes>"
      ]
     },
     "metadata": {},
     "output_type": "display_data"
    }
   ],
   "source": [
    "objects = list(set(table2.availability_365_range))\n",
    "y_pos = np.arange(len(objects))\n",
    "value = proportion_of_superhost\n",
    "plt.bar(y_pos, value, align='center', alpha=0.5)\n",
    "plt.xticks(y_pos, objects)\n",
    "plt.ylabel('Proportion of listing from superhost')\n",
    "plt.title('Proportion of listing from superhost breakdown by availability_365')\n",
    "plt.xticks(rotation=90)\n",
    "\n",
    "plt.show()"
   ]
  },
  {
   "cell_type": "markdown",
   "metadata": {},
   "source": [
    "Finding: Proportion of listing who is superhost is the lowest among accommodation rent out by middle class (i.e. those listing with availability_365 <= 100).  Middle class can improve their business on Airbnb by trying to transform themselves into superhost"
   ]
  },
  {
   "cell_type": "markdown",
   "metadata": {},
   "source": [
    "__Question 3: Does being \"superhost\" help businesses on Airbnb?__"
   ]
  },
  {
   "cell_type": "markdown",
   "metadata": {},
   "source": [
    "First, we need to engineer features which reflect business performances"
   ]
  },
  {
   "cell_type": "code",
   "execution_count": 134,
   "metadata": {},
   "outputs": [
    {
     "data": {
      "text/plain": [
       "0"
      ]
     },
     "execution_count": 134,
     "metadata": {},
     "output_type": "execute_result"
    }
   ],
   "source": [
    "df[df['guests_included'] == 0].shape[0] # Let's remove these row as it will make our engineered features below turn into infinity.  Their size is relatively small"
   ]
  },
  {
   "cell_type": "code",
   "execution_count": 135,
   "metadata": {},
   "outputs": [],
   "source": [
    "df = df[df['guests_included'] != 0] #remove rows where guest_included == 0"
   ]
  },
  {
   "cell_type": "code",
   "execution_count": 136,
   "metadata": {},
   "outputs": [],
   "source": [
    "df['price_convert'] = df['price'].replace('[\\$,]', '', regex=True).astype(float)\n",
    "df['adjusted price'] = df['price_convert'] / df['guests_included'] #calculate price per head per night"
   ]
  },
  {
   "cell_type": "code",
   "execution_count": 149,
   "metadata": {},
   "outputs": [],
   "source": [
    "df['implied occupancy'] = df['reviews_per_month']*12 / df['availability_365'] # try to imply occupancy rate from reviews data"
   ]
  },
  {
   "cell_type": "markdown",
   "metadata": {},
   "source": [
    "Compare price per head per night and occupacy rate between accommodation listed with superhost and those who are not superhost"
   ]
  },
  {
   "cell_type": "code",
   "execution_count": 161,
   "metadata": {},
   "outputs": [],
   "source": [
    "table3 = df[['host_is_superhost', 'availability_365_range', 'adjusted price']].groupby(['availability_365_range', 'host_is_superhost']).agg('mean')"
   ]
  },
  {
   "cell_type": "code",
   "execution_count": 162,
   "metadata": {},
   "outputs": [
    {
     "data": {
      "text/html": [
       "<div>\n",
       "<style scoped>\n",
       "    .dataframe tbody tr th:only-of-type {\n",
       "        vertical-align: middle;\n",
       "    }\n",
       "\n",
       "    .dataframe tbody tr th {\n",
       "        vertical-align: top;\n",
       "    }\n",
       "\n",
       "    .dataframe thead th {\n",
       "        text-align: right;\n",
       "    }\n",
       "</style>\n",
       "<table border=\"1\" class=\"dataframe\">\n",
       "  <thead>\n",
       "    <tr style=\"text-align: right;\">\n",
       "      <th></th>\n",
       "      <th></th>\n",
       "      <th>adjusted price</th>\n",
       "    </tr>\n",
       "    <tr>\n",
       "      <th>availability_365_range</th>\n",
       "      <th>host_is_superhost</th>\n",
       "      <th></th>\n",
       "    </tr>\n",
       "  </thead>\n",
       "  <tbody>\n",
       "    <tr>\n",
       "      <th rowspan=\"2\" valign=\"top\">between 1-100</th>\n",
       "      <th>f</th>\n",
       "      <td>87.749211</td>\n",
       "    </tr>\n",
       "    <tr>\n",
       "      <th>t</th>\n",
       "      <td>77.157895</td>\n",
       "    </tr>\n",
       "    <tr>\n",
       "      <th rowspan=\"2\" valign=\"top\">between 101-200</th>\n",
       "      <th>f</th>\n",
       "      <td>104.329517</td>\n",
       "    </tr>\n",
       "    <tr>\n",
       "      <th>t</th>\n",
       "      <td>79.596939</td>\n",
       "    </tr>\n",
       "    <tr>\n",
       "      <th rowspan=\"2\" valign=\"top\">between 201-300</th>\n",
       "      <th>f</th>\n",
       "      <td>100.929323</td>\n",
       "    </tr>\n",
       "    <tr>\n",
       "      <th>t</th>\n",
       "      <td>85.911049</td>\n",
       "    </tr>\n",
       "    <tr>\n",
       "      <th rowspan=\"2\" valign=\"top\">more than 300</th>\n",
       "      <th>f</th>\n",
       "      <td>93.974213</td>\n",
       "    </tr>\n",
       "    <tr>\n",
       "      <th>t</th>\n",
       "      <td>84.624060</td>\n",
       "    </tr>\n",
       "  </tbody>\n",
       "</table>\n",
       "</div>"
      ],
      "text/plain": [
       "                                          adjusted price\n",
       "availability_365_range host_is_superhost                \n",
       "between 1-100          f                       87.749211\n",
       "                       t                       77.157895\n",
       "between 101-200        f                      104.329517\n",
       "                       t                       79.596939\n",
       "between 201-300        f                      100.929323\n",
       "                       t                       85.911049\n",
       "more than 300          f                       93.974213\n",
       "                       t                       84.624060"
      ]
     },
     "execution_count": 162,
     "metadata": {},
     "output_type": "execute_result"
    }
   ],
   "source": [
    "table3"
   ]
  },
  {
   "cell_type": "code",
   "execution_count": 163,
   "metadata": {},
   "outputs": [],
   "source": [
    "table4 = df[['host_is_superhost', 'availability_365_range', 'implied occupancy']].groupby(['availability_365_range', 'host_is_superhost']).agg('mean')"
   ]
  },
  {
   "cell_type": "code",
   "execution_count": 170,
   "metadata": {},
   "outputs": [
    {
     "data": {
      "text/html": [
       "<div>\n",
       "<style scoped>\n",
       "    .dataframe tbody tr th:only-of-type {\n",
       "        vertical-align: middle;\n",
       "    }\n",
       "\n",
       "    .dataframe tbody tr th {\n",
       "        vertical-align: top;\n",
       "    }\n",
       "\n",
       "    .dataframe thead th {\n",
       "        text-align: right;\n",
       "    }\n",
       "</style>\n",
       "<table border=\"1\" class=\"dataframe\">\n",
       "  <thead>\n",
       "    <tr style=\"text-align: right;\">\n",
       "      <th></th>\n",
       "      <th></th>\n",
       "      <th>implied occupancy</th>\n",
       "    </tr>\n",
       "    <tr>\n",
       "      <th>availability_365_range</th>\n",
       "      <th>host_is_superhost</th>\n",
       "      <th></th>\n",
       "    </tr>\n",
       "  </thead>\n",
       "  <tbody>\n",
       "    <tr>\n",
       "      <th rowspan=\"2\" valign=\"top\">between 1-100</th>\n",
       "      <th>f</th>\n",
       "      <td>0.833952</td>\n",
       "    </tr>\n",
       "    <tr>\n",
       "      <th>t</th>\n",
       "      <td>1.077102</td>\n",
       "    </tr>\n",
       "    <tr>\n",
       "      <th rowspan=\"2\" valign=\"top\">between 101-200</th>\n",
       "      <th>f</th>\n",
       "      <td>0.128132</td>\n",
       "    </tr>\n",
       "    <tr>\n",
       "      <th>t</th>\n",
       "      <td>0.255485</td>\n",
       "    </tr>\n",
       "    <tr>\n",
       "      <th rowspan=\"2\" valign=\"top\">between 201-300</th>\n",
       "      <th>f</th>\n",
       "      <td>0.080420</td>\n",
       "    </tr>\n",
       "    <tr>\n",
       "      <th>t</th>\n",
       "      <td>0.121331</td>\n",
       "    </tr>\n",
       "    <tr>\n",
       "      <th rowspan=\"2\" valign=\"top\">more than 300</th>\n",
       "      <th>f</th>\n",
       "      <td>0.062280</td>\n",
       "    </tr>\n",
       "    <tr>\n",
       "      <th>t</th>\n",
       "      <td>0.103748</td>\n",
       "    </tr>\n",
       "  </tbody>\n",
       "</table>\n",
       "</div>"
      ],
      "text/plain": [
       "                                          implied occupancy\n",
       "availability_365_range host_is_superhost                   \n",
       "between 1-100          f                           0.833952\n",
       "                       t                           1.077102\n",
       "between 101-200        f                           0.128132\n",
       "                       t                           0.255485\n",
       "between 201-300        f                           0.080420\n",
       "                       t                           0.121331\n",
       "more than 300          f                           0.062280\n",
       "                       t                           0.103748"
      ]
     },
     "execution_count": 170,
     "metadata": {},
     "output_type": "execute_result"
    }
   ],
   "source": [
    "table4"
   ]
  },
  {
   "cell_type": "code",
   "execution_count": 171,
   "metadata": {},
   "outputs": [],
   "source": [
    "table3 = table3.reset_index()\n",
    "table4 = table4.reset_index()"
   ]
  },
  {
   "cell_type": "code",
   "execution_count": 179,
   "metadata": {},
   "outputs": [],
   "source": [
    "superhost_price = list(table3[table3['host_is_superhost']=='t']['adjusted price'])\n",
    "notsuperhost_price = list(table3[table3['host_is_superhost']=='f']['adjusted price'])\n",
    "superhost_occupacy = list(table4[table3['host_is_superhost']=='t']['implied occupancy'])\n",
    "notsuperhost_occupacy = list(table4[table3['host_is_superhost']=='f']['implied occupancy'])\n",
    "objects = list(set(table2.availability_365_range))"
   ]
  },
  {
   "cell_type": "code",
   "execution_count": 177,
   "metadata": {},
   "outputs": [
    {
     "data": {
      "text/html": [
       "<div>\n",
       "<style scoped>\n",
       "    .dataframe tbody tr th:only-of-type {\n",
       "        vertical-align: middle;\n",
       "    }\n",
       "\n",
       "    .dataframe tbody tr th {\n",
       "        vertical-align: top;\n",
       "    }\n",
       "\n",
       "    .dataframe thead th {\n",
       "        text-align: right;\n",
       "    }\n",
       "</style>\n",
       "<table border=\"1\" class=\"dataframe\">\n",
       "  <thead>\n",
       "    <tr style=\"text-align: right;\">\n",
       "      <th></th>\n",
       "      <th>availability_365_range</th>\n",
       "      <th>host_is_superhost</th>\n",
       "      <th>implied occupancy</th>\n",
       "    </tr>\n",
       "  </thead>\n",
       "  <tbody>\n",
       "    <tr>\n",
       "      <th>1</th>\n",
       "      <td>between 1-100</td>\n",
       "      <td>t</td>\n",
       "      <td>1.077102</td>\n",
       "    </tr>\n",
       "    <tr>\n",
       "      <th>3</th>\n",
       "      <td>between 101-200</td>\n",
       "      <td>t</td>\n",
       "      <td>0.255485</td>\n",
       "    </tr>\n",
       "    <tr>\n",
       "      <th>5</th>\n",
       "      <td>between 201-300</td>\n",
       "      <td>t</td>\n",
       "      <td>0.121331</td>\n",
       "    </tr>\n",
       "    <tr>\n",
       "      <th>7</th>\n",
       "      <td>more than 300</td>\n",
       "      <td>t</td>\n",
       "      <td>0.103748</td>\n",
       "    </tr>\n",
       "  </tbody>\n",
       "</table>\n",
       "</div>"
      ],
      "text/plain": [
       "  availability_365_range host_is_superhost  implied occupancy\n",
       "1          between 1-100                 t           1.077102\n",
       "3        between 101-200                 t           0.255485\n",
       "5        between 201-300                 t           0.121331\n",
       "7          more than 300                 t           0.103748"
      ]
     },
     "execution_count": 177,
     "metadata": {},
     "output_type": "execute_result"
    }
   ],
   "source": [
    "superhost_occupacy"
   ]
  },
  {
   "cell_type": "code",
   "execution_count": 183,
   "metadata": {},
   "outputs": [
    {
     "data": {
      "image/png": "[encoded data removed]",
      "text/plain": [
       "<Figure size 432x288 with 1 Axes>"
      ]
     },
     "metadata": {},
     "output_type": "display_data"
    }
   ],
   "source": [
    "n_groups = 4\n",
    "\n",
    "# create plot\n",
    "fig, ax = plt.subplots()\n",
    "index = np.arange(n_groups)\n",
    "bar_width = 0.35\n",
    "opacity = 0.8\n",
    "\n",
    "rects1 = plt.bar(index, notsuperhost_price, bar_width,\n",
    "alpha=opacity,\n",
    "color='b',\n",
    "label='Not superhost')\n",
    "\n",
    "rects2 = plt.bar(index + bar_width, superhost_price, bar_width,\n",
    "alpha=opacity,\n",
    "color='g',\n",
    "label='Superhost')\n",
    "\n",
    "plt.xlabel('availability_365')\n",
    "plt.ylabel('Price per head per day')\n",
    "plt.title('Price per head per day breakdown by availability_365')\n",
    "plt.xticks(index + bar_width, objects)\n",
    "plt.legend()\n",
    "\n",
    "plt.tight_layout()\n",
    "plt.show()"
   ]
  },
  {
   "cell_type": "code",
   "execution_count": 184,
   "metadata": {},
   "outputs": [
    {
     "data": {
      "image/png": "[encoded data removed]",
      "text/plain": [
       "<Figure size 432x288 with 1 Axes>"
      ]
     },
     "metadata": {},
     "output_type": "display_data"
    }
   ],
   "source": [
    "n_groups = 4\n",
    "\n",
    "# create plot\n",
    "fig, ax = plt.subplots()\n",
    "index = np.arange(n_groups)\n",
    "bar_width = 0.35\n",
    "opacity = 0.8\n",
    "\n",
    "rects1 = plt.bar(index, notsuperhost_occupacy, bar_width,\n",
    "alpha=opacity,\n",
    "color='b',\n",
    "label='Not superhost')\n",
    "\n",
    "rects2 = plt.bar(index + bar_width, superhost_occupacy, bar_width,\n",
    "alpha=opacity,\n",
    "color='g',\n",
    "label='Superhost')\n",
    "\n",
    "plt.xlabel('availability_365')\n",
    "plt.ylabel('Implied occupacy')\n",
    "plt.title('Implied occupacy breakdown by availability_365')\n",
    "plt.xticks(index + bar_width, objects)\n",
    "plt.legend()\n",
    "\n",
    "plt.tight_layout()\n",
    "plt.show()"
   ]
  },
  {
   "cell_type": "markdown",
   "metadata": {},
   "source": [
    "Finding: A strategy for middle income class to better get benefit from Airbnb is to become superhost.  Although accommodation prices of superhost is lower across all break-down of availability_365, being superhost increase occupacy (implied) rate of accommodation of middle income class (availability < 100) by as much as 20%"
   ]
  },
  {
   "cell_type": "markdown",
   "metadata": {},
   "source": [
    "__Conclusion__"
   ]
  },
  {
   "cell_type": "markdown",
   "metadata": {},
   "source": [
    "Income growth of middle class in the US is facing stagnation.  We find that significant proportion of accommodation in Airbnb at Seattle are possibly owned by middle class.  We suggest that they can further enhance their income by trying to gain 'superhost' status as that would enhance their occupancy rate"
   ]
  }
 ],
 "metadata": {
  "kernelspec": {
   "display_name": "Python 3",
   "language": "python",
   "name": "python3"
  },
  "language_info": {
   "codemirror_mode": {
    "name": "ipython",
    "version": 3
   },
   "file_extension": ".py",
   "mimetype": "text/x-python",
   "name": "python",
   "nbconvert_exporter": "python",
   "pygments_lexer": "ipython3",
   "version": "3.6.5"
  }
 },
 "nbformat": 4,
 "nbformat_minor": 2
}
